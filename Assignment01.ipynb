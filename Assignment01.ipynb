{
 "cells": [
  {
   "cell_type": "markdown",
   "metadata": {},
   "source": [
    "# 課題1\n",
    "\n",
    "**変更点**\n",
    "* Motionクラスを作成し、motion.updateで更新する\n",
    "* Sensorクラスを作成し、sensor.updateで観測する\n",
    "* samplingを関数化"
   ]
  },
  {
   "cell_type": "code",
   "execution_count": 1,
   "metadata": {
    "collapsed": true
   },
   "outputs": [],
   "source": [
    "%matplotlib inline\n",
    "import numpy as np\n",
    "import math, random, copy\n",
    "import matplotlib.pyplot as plt\n",
    "from matplotlib.patches import Ellipse\n",
    "from scipy.stats import norm"
   ]
  },
  {
   "cell_type": "code",
   "execution_count": 2,
   "metadata": {},
   "outputs": [],
   "source": [
    "class Particle:\n",
    "    def __init__(self,p,w):\n",
    "        self.pose = np.array(p)\n",
    "        self.weight = w\n",
    "        self.motion = self.Motion(np.array([0.2,math.pi / 180.0 * 20]))\n",
    "        self.sensor = self.Sensor()\n",
    "\n",
    "    def __repr__(self):\n",
    "        return \"pose: \" + str(self.pose) + \" weight: \" + str(self.weight)\n",
    "    \n",
    "    class Motion:\n",
    "        def __init__(self, u):\n",
    "            self.u = u\n",
    "\n",
    "        def update(self,x_old):\n",
    "            pos_x, pos_y, pos_theta = x_old\n",
    "            act_fw, act_rot = self.u\n",
    "\n",
    "            act_fw = random.gauss(act_fw,act_fw/10)\n",
    "            dir_error = random.gauss(0.0, math.pi / 180.0 * 3.0)\n",
    "            act_rot = random.gauss(act_rot,act_rot/10)\n",
    "\n",
    "            pos_x += act_fw * math.cos(pos_theta + dir_error)\n",
    "            pos_y += act_fw * math.sin(pos_theta + dir_error)\n",
    "            pos_theta += act_rot\n",
    "\n",
    "            return np.array([pos_x,pos_y,pos_theta]) \n",
    "    \n",
    "    class Sensor:\n",
    "        def update(self, pose, landmarks):\n",
    "            ms = self.observations(pose,landmarks)\n",
    "            return ms\n",
    "\n",
    "        def relative_landmark_pos(self,pose,landmark):\n",
    "            x,y,theta = pose\n",
    "            lx,ly = landmark\n",
    "            distance = math.sqrt((x -lx)**2 + (y-ly)**2)\n",
    "            direction = math.atan2(ly-y, lx-x) - theta\n",
    "\n",
    "            return (distance, direction,lx,ly) # 実際の位置も一緒に返す\n",
    "\n",
    "        def likelihood(self, pose, measurement):\n",
    "            x,y,theta = pose\n",
    "            distance, direction,lx,ly = measurement\n",
    "            # パーティクルの姿勢から観測されるはずのランドマークの距離と向き\n",
    "            rel_distance, rel_direction, tmp_x,tmp_y = self.relative_landmark_pos(pose,(lx,ly))\n",
    "            # 誤差をガウスで評価\n",
    "            return norm.pdf(x = distance - rel_distance, loc = 0.0, scale = rel_distance / 10.0)  \\\n",
    "                     * norm.pdf(x = direction - rel_direction, loc = 0.0, scale = 5.0/180.0 * math.pi)\n",
    "\n",
    "        def change_weights(self, particles, measurement):\n",
    "            for p in particles:\n",
    "                p.weight *= self.likelihood(p.pose, measurement)\n",
    "            # 重みの合計を1に保つ\n",
    "            ws = [ p.weight for p in particles ]\n",
    "            s = sum(ws)\n",
    "            for p in particles: p.weight = p.weight / s\n",
    "\n",
    "        def observation(self, pose, landmark):\n",
    "            actual_distance,actual_direction,lx,ly = self.relative_landmark_pos(pose,landmark)\n",
    "\n",
    "            # 方向の制限（cosの値が正）\n",
    "            if (math.cos(actual_direction) < 0.0):\n",
    "                return None\n",
    "\n",
    "            measured_distance = random.gauss(actual_distance,actual_distance*0.1)  \n",
    "            measured_direction = random.gauss(actual_direction,5.0/180.0*math.pi)  \n",
    "\n",
    "            return (measured_distance, measured_direction,lx,ly)\n",
    "\n",
    "        def observations(self, pose,landmarks):\n",
    "            return filter(lambda x: x != None, [ self.observation(pose,e.pos) for e in landmarks])"
   ]
  },
  {
   "cell_type": "code",
   "execution_count": 3,
   "metadata": {},
   "outputs": [],
   "source": [
    "class Landmark:\n",
    "    def __init__(self,x,y):\n",
    "        self.pos = np.array([x, y])"
   ]
  },
  {
   "cell_type": "code",
   "execution_count": 4,
   "metadata": {},
   "outputs": [],
   "source": [
    "# エージェント(実機)　重みは使わない\n",
    "agent = Particle([0.0, 0.0, 0.0], 0)\n",
    "# パーティクル\n",
    "particles = [Particle([0.0,0.0,0.0],1.0/100) for i in range(100)]\n",
    "# ランドマーク\n",
    "landmarks = [Landmark(-0.5, 0.0),Landmark(-0.5,1.0),Landmark(0.0, 0.5),Landmark(0.5, 1.0),Landmark(0.5, 0.0)]"
   ]
  },
  {
   "cell_type": "code",
   "execution_count": 5,
   "metadata": {
    "collapsed": true
   },
   "outputs": [],
   "source": [
    "def sampling(particles):\n",
    "    accum = []\n",
    "    sm = 0.0\n",
    "    for p in particles:\n",
    "        accum.append(p.weight + sm)\n",
    "        sm += p.weight\n",
    "    new_particles = []\n",
    "    particles_num = len(particles)\n",
    "    pointer = random.uniform(0.0,1.0/len(particles))\n",
    "    while pointer < 1.0:\n",
    "        if accum[0] >= pointer:\n",
    "            new_particles.append(\n",
    "                Particle(copy.deepcopy(particles[0].pose),1.0/particles_num)\n",
    "            )\n",
    "            pointer += 1.0/particles_num\n",
    "        else:\n",
    "            accum.pop(0)\n",
    "            particles.pop(0)\n",
    "    return new_particles\n",
    "particles = sampling(particles)"
   ]
  },
  {
   "cell_type": "code",
   "execution_count": 6,
   "metadata": {
    "collapsed": true
   },
   "outputs": [],
   "source": [
    "def draw_agent(pose, color=\"red\"):\n",
    "    plt.quiver([pose[0]],[pose[1]],[math.cos(pose[2])],[math.sin(pose[2])],color=color,label=\"actual robot motion\")\n",
    "\n",
    "def draw_particles(particles, color=\"blue\"):\n",
    "    xs = [e.pose[0] for e in particles]\n",
    "    ys = [e.pose[1] for e in particles]\n",
    "    vxs = [math.cos(e.pose[2])*e.weight for e in particles] \n",
    "    vys = [math.sin(e.pose[2])*e.weight for e in particles] \n",
    "    plt.quiver(xs,ys,vxs,vys,color=color,label=\"particles\")\n",
    "    \n",
    "def draw_landmarks(landmarks, color=\"orange\"):\n",
    "    xs = [ e.pos[0] for e in landmarks]\n",
    "    ys = [ e.pos[1] for e in landmarks]\n",
    "    plt.scatter(xs,ys,s=300,marker=\"*\",label=\"landmarks\",color=color)\n",
    "\n",
    "def draw_observation(pose,  measurement, color):\n",
    "    x,y,theta = pose\n",
    "    distance, direction,lx,ly = measurement\n",
    "    lx = distance*math.cos(theta + direction) + x\n",
    "    ly = distance*math.sin(theta + direction) + y\n",
    "    plt.plot([pose[0],  lx],[pose[1],  ly],color=color)\n",
    "    \n",
    "def draw_observations(pose,  measurements, color=\"pink\"):\n",
    "    for m in measurements:\n",
    "        draw_observation(pose, m, color)"
   ]
  },
  {
   "cell_type": "code",
   "execution_count": 7,
   "metadata": {},
   "outputs": [
    {
     "data": {
      "image/png": "[encoded data removed]",
      "text/plain": [
       "<matplotlib.figure.Figure at 0x7529950>"
      ]
     },
     "metadata": {},
     "output_type": "display_data"
    }
   ],
   "source": [
    "path = [agent.pose]\n",
    "particle_path = [copy.deepcopy(particles)]\n",
    "mss  = [agent.sensor.update(agent.pose, landmarks)]\n",
    "\n",
    "for itr in range(10):\n",
    "    agent.pose = agent.motion.update(agent.pose)\n",
    "    measurments = agent.sensor.update(agent.pose, landmarks)\n",
    "    for p in particles:\n",
    "        p.pose = p.motion.update(p.pose)\n",
    "    for m in measurments:\n",
    "        agent.sensor.change_weights(particles, m)\n",
    "    particles = sampling(particles)\n",
    "    path.append(agent.pose)\n",
    "    particle_path.append(copy.deepcopy(particles))\n",
    "    mss.append(measurments)\n",
    "\n",
    "fig = plt.figure(1,figsize=(8, 8))\n",
    "sp = fig.add_subplot(111, aspect='equal')\n",
    "sp.set_xlim(-1.0,1.0)\n",
    "sp.set_ylim(-0.5,1.5)\n",
    "for i,p in enumerate(path):\n",
    "    draw_particles(particle_path[i])\n",
    "    draw_landmarks(landmarks)\n",
    "    draw_agent(path[i])\n",
    "    draw_observations(path[i],mss[i])"
   ]
  }
 ],
 "metadata": {
  "kernelspec": {
   "display_name": "Python 3",
   "language": "python",
   "name": "python3"
  },
  "language_info": {
   "codemirror_mode": {
    "name": "ipython",
    "version": 3
   },
   "file_extension": ".py",
   "mimetype": "text/x-python",
   "name": "python",
   "nbconvert_exporter": "python",
   "pygments_lexer": "ipython3",
   "version": "3.5.4"
  }
 },
 "nbformat": 4,
 "nbformat_minor": 2
}
